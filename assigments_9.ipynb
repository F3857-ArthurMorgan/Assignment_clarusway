{
 "cells": [
  {
   "cell_type": "markdown",
   "metadata": {},
   "source": [
    "Diyelimki; Geçmişte ihtiyacınız olan şifreyi yazdıran bir mesaj bıraktınız. Yazmış olduğunuz şifreyi görebilmek için adınızı girmeniz ve programın sizi tanıması gerekmektedir.\n",
    "öyle bir program yazın\n",
    "\n",
    "Kullanıcıdan ilk adı alır ve sizinkiyle karşılaştırır,\n",
    "\n",
    "Ardından, kullanıcının girdiği ad sizinkiyle aynıysa, \"Merhaba Joseph! Şifre: W@12\" gibi bir çıktı alın,\n",
    "\n",
    "Kullanıcının girdiği ad sizinkiyle aynı değilse, \"Merhaba Amina! Sonra görüşürüz\" gibi bir çıktı alın."
   ]
  },
  {
   "cell_type": "code",
   "execution_count": 21,
   "metadata": {},
   "outputs": [
    {
     "name": "stdout",
     "output_type": "stream",
     "text": [
      "Hello, Edwın! The password is : Python_for_data_science\n"
     ]
    }
   ],
   "source": [
    "name_entry = input(\"Remember password, enter a name:\")\n",
    "name_entry = name_entry.title()\n",
    "if name_entry == \"Joseph\" :\n",
    "    print(\"Hello, {}! The password is : W@12\".format(name_entry))\n",
    "elif name_entry == \"Edwın\" :\n",
    "    print(\"Hello, {}! The password is : Python_for_data_science\".format(name_entry))\n",
    "else :\n",
    "    print(\"Hello, {}! See you later.\".format(name_entry))"
   ]
  }
 ],
 "metadata": {
  "kernelspec": {
   "display_name": "Python 3.9.13 64-bit (microsoft store)",
   "language": "python",
   "name": "python3"
  },
  "language_info": {
   "codemirror_mode": {
    "name": "ipython",
    "version": 3
   },
   "file_extension": ".py",
   "mimetype": "text/x-python",
   "name": "python",
   "nbconvert_exporter": "python",
   "pygments_lexer": "ipython3",
   "version": "3.9.13"
  },
  "orig_nbformat": 4,
  "vscode": {
   "interpreter": {
    "hash": "e30c81a57d29f20af79f1c26e26a4b70f444d6368a588f5569884b7f950a4e21"
   }
  }
 },
 "nbformat": 4,
 "nbformat_minor": 2
}
