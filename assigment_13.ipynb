{
 "cells": [
  {
   "cell_type": "markdown",
   "metadata": {},
   "source": [
    "Görev : Kullanıcıdan bir sayı alan ve asal sayı olup olmadığını kontrol etmek için sonucu yazdıran bir program yazın.\n",
    "\n",
    "İstenen çıktının örnekleri aşağıdaki gibidir:\n",
    "\n",
    "giriş → 19 ⇉ çıkış : 19 bir asal sayıdır\n",
    "giriş → 10 ⇉ çıkış : 10 bir asal sayı değildir\n",
    "Unutmayın ki ⚠ : Bu soru internette meşhurdur, bu yüzden bu ödevden daha fazla yararlanmak için bu görevi kendi başınıza tamamlamaya çalışın."
   ]
  },
  {
   "cell_type": "code",
   "execution_count": 14,
   "metadata": {},
   "outputs": [
    {
     "name": "stdout",
     "output_type": "stream",
     "text": [
      "5 asal sayıdır\n"
     ]
    }
   ],
   "source": [
    "girdi = int(input(\"sayı giriniz:\"))\n",
    "if girdi % 2 != 0 and girdi % 3 != 0 and girdi % 5 != 0 and girdi>0 :\n",
    "    print(\"{} asal sayıdır\".format(girdi))\n",
    "elif girdi == 2 or girdi == 3 or girdi == 5:\n",
    "        print(\"{} asal sayıdır\".format(girdi))\n",
    "else:\n",
    "    print(\"{} asal sayı değildir\".format(girdi))"
   ]
  }
 ],
 "metadata": {
  "kernelspec": {
   "display_name": "Python 3.9.13 64-bit (microsoft store)",
   "language": "python",
   "name": "python3"
  },
  "language_info": {
   "codemirror_mode": {
    "name": "ipython",
    "version": 3
   },
   "file_extension": ".py",
   "mimetype": "text/x-python",
   "name": "python",
   "nbconvert_exporter": "python",
   "pygments_lexer": "ipython3",
   "version": "3.9.13"
  },
  "orig_nbformat": 4,
  "vscode": {
   "interpreter": {
    "hash": "e30c81a57d29f20af79f1c26e26a4b70f444d6368a588f5569884b7f950a4e21"
   }
  }
 },
 "nbformat": 4,
 "nbformat_minor": 2
}
